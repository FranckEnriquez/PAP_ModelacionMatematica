{
 "cells": [
  {
   "attachments": {
    "image.png": {
     "image/png": "[encoded data removed]"
    }
   },
   "cell_type": "markdown",
   "metadata": {
    "slideshow": {
     "slide_type": "slide"
    }
   },
   "source": [
    "# <center> Feature importances </center>\n",
    "---\n",
    "### <center>Francisco Javier Enriquez Muñoz</center>\n",
    "\n",
    "![image.png](attachment:image.png)\n",
    "\n",
    "##### <center>PAP PROGRAMA DE MODELACION MATEMATICA PARA EL DESARROLLO DE PLANES Y PROYECTOS DE NEGOCIO</center>\n",
    "#### <center>Otoño 2020</center>"
   ]
  },
  {
   "cell_type": "markdown",
   "metadata": {
    "slideshow": {
     "slide_type": "slide"
    }
   },
   "source": [
    "## <center> Conextualización </center>\n",
    "\n",
    "Entre uno de los objetivos es establecer la implementación de un algoritmo de ML para el pronóstico del precio en tiempo t. Para esto, dentro del pipeline se requiere el pre-procesamiento de Feature Importance / Feature Engineering\n",
    "\n",
    "---\n"
   ]
  },
  {
   "attachments": {},
   "cell_type": "markdown",
   "metadata": {
    "slideshow": {
     "slide_type": "slide"
    }
   },
   "source": [
    "### <center> Variables endogénas y exogéneas\n",
    " \n",
    " En Angrist and Pischke (2009, p.109) reservan el concepto de endógeno al más tradicional de sistemas de ecuaciones (SEM) donde las variables endógenas son determinadas conjuntamente dentro del sistema y las exógenas fuera del mismo\n",
    "    \n",
    "* Endogeneidad $𝐶𝑜𝑣[𝑥_{j}  𝑢] ≠ 0$\n",
    "* Exogeneidad $𝐶𝑜𝑣 [𝑥_{j}  𝑢] = 0$\n",
    "    \n",
    "-> Causalidad de Granger"
   ]
  },
  {
   "attachments": {},
   "cell_type": "markdown",
   "metadata": {
    "slideshow": {
     "slide_type": "slide"
    }
   },
   "source": [
    "### <center> Feature Engineering\n",
    "\n",
    "\n",
    "    \n",
    "* Imputation\n",
    "* Handling Outliers\n",
    "* Binning\n",
    "* Log Transform\n",
    "* One-Hot Encoding\n",
    "* Grouping Operations\n",
    "* Feature Split\n",
    "* Scaling\n",
    "* Extracting Date"
   ]
  },
  {
   "cell_type": "markdown",
   "metadata": {},
   "source": [
    "### <center> Why Feature Selection?\n",
    "\n",
    "* Shorter training time\n",
    "* Easier to interpret the model\n",
    "* Reduce overfitting\n",
    "* Improves accuracy"
   ]
  },
  {
   "cell_type": "markdown",
   "metadata": {},
   "source": [
    "### <center> FILTER\n",
    "\n",
    "Set of all features -> Selecting the best subset -> Learning algorithm -> Performance\n",
    "\n",
    "- Correlation\n",
    "- Mutual Information\n",
    "- ANOVA test\n",
    "- Chi  Square test\n",
    "\n",
    "Information:\n",
    "* Single Factor Analysis\n",
    "* Uses individual feature predictive power\n",
    "* Less computationally expensive \n",
    "* Useful in quick screening\n",
    "* Filter method uses the relevance of features depending of the variables self and wrapper need the mixed of design experiments \n"
   ]
  },
  {
   "cell_type": "markdown",
   "metadata": {},
   "source": [
    "### <center> WRAPPER \n",
    "\n",
    "Set of all features -> Selecting the best subset (Loop: Generate a subset -> Learning algorithm) -> Performance\n",
    "\n",
    "- Recursive feature elimination\n",
    "- Boruta\n",
    "- Stepwise Selection\n",
    "\n",
    "Information:\n",
    "* Use combinations of variables to determine predictive power\n",
    "* fin the best combination union of variables\n",
    "* Computationally expensive than filter method\n",
    "* Not recommend on high number of features\n",
    "* Subset selection (Exhaustive Feature Selection)\n",
    "*Fits the model with each possible combination of N features\n",
    "* Requires massive computational power (all possible combinations)\n",
    "* Use test error to evaluate model performance\n"
   ]
  },
  {
   "cell_type": "markdown",
   "metadata": {},
   "source": [
    "### <center> INSTRINSIC / EMBEDDED = WRAPPER + FILTER\n",
    "\n",
    "Set of all features  -> Selecting the best subset (Loop: Generate the subset -> (Loop: Learning algorithm + performance))\n",
    "\n",
    "- Elastic Net Regression: LASSO & RIDGE\n",
    "- Tree-based models: Tree Importance\n",
    "\n",
    "Information:\n",
    "* Forward step selection\n",
    "* Faster than wrapper method\n",
    "* More accurate than filter method\n",
    "* Perform feature selection during algorithm implementations thus embedded it\n"
   ]
  },
  {
   "cell_type": "markdown",
   "metadata": {
    "slideshow": {
     "slide_type": "slide"
    }
   },
   "source": [
    "## <center>Referencias\n",
    "\n",
    "- Introduction to Feature Selection: \n",
    "https://www.youtube.com/watch?v=kA4mD3y4aqA&list=LLqjNOS4yQPb0HUwtjLK1cbg&index=2&t=5s \n",
    "\n",
    "- Art of Feature Engineering for Data Science - Nobel Sarwar:  \n",
    "https://www.youtube.com/watch?v=leTyvBPhYzw\n",
    "\n",
    "- Chapter 3 of Bishop: Linear models of Regression\n",
    "\n",
    "- Capìtulo 17 Guajaruti: Modelos economètricos dinámicos: modelos autorregresivos y de rezagos distribuidos\n",
    "\n",
    "- Capìtulo 22 Guajaruti: Econometría de series de tiempo: pronósticos\n"
   ]
  }
 ],
 "metadata": {
  "celltoolbar": "Slideshow",
  "kernelspec": {
   "display_name": "Python 3",
   "language": "python",
   "name": "python3"
  },
  "language_info": {
   "codemirror_mode": {
    "name": "ipython",
    "version": 3
   },
   "file_extension": ".py",
   "mimetype": "text/x-python",
   "name": "python",
   "nbconvert_exporter": "python",
   "pygments_lexer": "ipython3",
   "version": "3.8.3"
  }
 },
 "nbformat": 4,
 "nbformat_minor": 2
}
